{
 "cells": [
  {
   "cell_type": "markdown",
   "metadata": {},
   "source": [
    "# Segundas derivadas, laplaciano y Arrays"
   ]
  },
  {
   "cell_type": "markdown",
   "metadata": {},
   "source": [
    "______________\n",
    "__Ejercicio1__: Escriba la forma del operador laplaciano utilizando diferencias finitas simétricas. Es decir, discretice: $\\nabla^2=\\frac{\\partial^2 f}{\\partial x^2}+\\frac{\\partial^2 f}{\\partial y^2}+\\frac{\\partial^2 f}{\\partial z^2}$"
   ]
  },
  {
   "cell_type": "markdown",
   "metadata": {},
   "source": [
    "Derivada de diferencias finitas simetricas. Cuando $f=f(x)$:\n",
    "$$\n",
    "f'=\\lim_{h\\rightarrow 0}{\\frac{f(x+h)+f(x)}{h}}= \\frac{df(x)}{dx}\\approx \\frac{f(x+h)−f(x−h)}{2h}\n",
    "$$\n",
    "\n",
    "La segunda derivada quedaría como:\n",
    "\\begin{equation}\n",
    "\\begin{split}\n",
    "f''&\\approx \\frac{1}{2h}\\left[\\frac{d}{dx}(f(x+h))+\\frac{d}{dx}(f(x-h))\\right] \\\\&\\approx \\frac{1}{2h} \\left[ \\frac{f(x+2h)-f(x))}{2h}-\\frac{f(x)-f(x-2h)}{2h}\\right]\n",
    "\\end{split}\n",
    "\\end{equation}\n",
    "\n",
    "Ahora bien, si cambiamos $h$ por $\\frac{h}{2}$ queda:\n",
    "$$f''=\\frac{f(x+h)-2f(x)+f(x-h)}{h^2}$$\n",
    "\n",
    "Ahora bien cuando $f=f(x,y,z)$. La derivada parcial es: $$\\frac{\\partial f(\\vec{x})}{\\partial x_\\alpha}=\\lim_{h\\rightarrow 0}{\\frac{f(\\vec{x_\\beta},x_\\alpha+h)+f(\\vec{x_\\beta},x_\\alpha)}{h}}$$\n",
    "\n",
    "y haciendo lo mismo que para una dimensión, se tiene que: $$\\frac{\\partial f(\\vec{x})}{\\partial x_\\alpha} \\approx \\frac{f(\\vec{x_\\beta},x_\\alpha+h)−f(\\vec{x_\\beta},x_\\alpha−h)}{2h}$$\n",
    "\n",
    "Lo que aplicando el mismo planteamiento monstrado anteriormente.\n",
    "$$\\frac{\\partial^2 f(\\vec{x})}{\\partial x^2_\\alpha} \\approx \\frac{f(\\vec{x_\\beta},x_\\alpha+h)-2f(\\vec{x_\\beta},x_\\alpha)+f(\\vec{x_\\beta},x_\\alpha−h)}{h^2}$$\n",
    "\n",
    "Así\n",
    "$$\\nabla^2=\\frac{\\partial^2 f}{\\partial x^2}+\\frac{\\partial^2 f}{\\partial y^2}+\\frac{\\partial^2 f}{\\partial z^2} \\approx\n",
    "\\sum_{\\alpha=1}^3\\frac{f(\\vec{x_\\beta},x_\\alpha+h)-2f(\\vec{x_\\beta},x_\\alpha)+f(\\vec{x_\\beta},x_\\alpha−h)}{h^2}$$\n",
    "donde si nuestro conjunto de variables $\\vec{x}=\\{x,y,z\\}, x_\\alpha \\in \\vec{x}$, donde $x_\\beta \\in \\vec{x}$ y $x_\\beta \\neq\tx_\\alpha$."
   ]
  },
  {
   "cell_type": "markdown",
   "metadata": {},
   "source": [
    "_____________\n",
    "__Ejercicio 2 (condiciones a la frontera de Dirichlet)__. Discretice la ecuación \n",
    "$ \\frac{d^2f}{dx^2}, $\n",
    "en el intervalo $[0,1]$, y aplicando el operador laplaciano discretizado obtenga el sistema de ecuaciones algebraicas lineales correspondientes al problema de _Dirichlet_:\n",
    "$f(0) = a$ y $f(1) = b$ dividiendo el intervalo $[0,1]$ en $5$ puntos separados por $h$."
   ]
  },
  {
   "cell_type": "markdown",
   "metadata": {},
   "source": [
    "En primer lugar, dividamos el intervalo en  puntos. 0,1, estan en dicho intervalo. así:"
   ]
  },
  {
   "cell_type": "code",
   "execution_count": 5,
   "metadata": {},
   "outputs": [
    {
     "data": {
      "text/plain": [
       "0.0:0.25:1.0"
      ]
     },
     "execution_count": 5,
     "metadata": {},
     "output_type": "execute_result"
    }
   ],
   "source": [
    "intervalo=linspace(0,1,5)"
   ]
  },
  {
   "cell_type": "code",
   "execution_count": 6,
   "metadata": {},
   "outputs": [
    {
     "data": {
      "text/plain": [
       "0.25"
      ]
     },
     "execution_count": 6,
     "metadata": {},
     "output_type": "execute_result"
    }
   ],
   "source": [
    "intervalo[2]-intervalo[1]"
   ]
  },
  {
   "cell_type": "markdown",
   "metadata": {},
   "source": [
    "Así $h$ tiene un valor de .25"
   ]
  },
  {
   "cell_type": "markdown",
   "metadata": {},
   "source": [
    "Si $f''(x) \\approx \\frac{f(x+h)-2f(x)+f(x-h)}{h^2}$\n",
    "\\begin{equation}\n",
    "\\begin{split}\n",
    "f''(.25)=\\frac{f(.25+.25)-2f(.25)+f(.25-.25)}{.25}= 4(f(.5)-2f(.25)+f(0))\\\\ \\rightarrow 16[ f(.50)-2f(.25)+a] &=f''(.25) \\\\\n",
    "f''(.50)=\\frac{f(.25+.5)-2f(.5)+f(.5-.25)}{.25}= 4(f(.75)-2f(.50)+f(.25))\\\\ \\rightarrow 16[ f(.75)-2f(.50)+f(.25)] &=f''(.50) \\\\\n",
    "f''(.75)=\\frac{f(.75+.25)-2f(.75)+f(.75-.25)}{.25}= 4(f(1)-2f(.75)+f(.50))\\\\ \\rightarrow 16[ b-2f(.75)+f(.50)] &=f''(.75)\n",
    "\\end{split}\n",
    "\\end{equation}\n",
    "\n"
   ]
  },
  {
   "cell_type": "markdown",
   "metadata": {},
   "source": [
    "--------------\n",
    "__Ejercicio 3 (condiciones a la frontera de Neumann)__. Hacer lo mismo para condiciones de _Neumann_, es decir, fijando en los extremos el valor de la primera derivada de la función. Para esto utilice la derivada _hacia adeltante_ en las orillas, es decir, si $f'(0)=a$ y $f'(1)=b$, entonces $(f_1-f_0)/h=a$, etc. No olvide que debe resultar un sistema de ecuación cuya dimensión sea el número de incognitas."
   ]
  },
  {
   "cell_type": "markdown",
   "metadata": {},
   "source": [
    "$h$ tiene un valor de .25 como el caso anterior"
   ]
  },
  {
   "cell_type": "markdown",
   "metadata": {},
   "source": [
    "Si $f''(x) \\approx \\frac{df'(x)}{dx}\\approx \\frac{f'(x+h)−f'(x−h)}{2h}$\n",
    "\\begin{equation}\n",
    "\\begin{split}\n",
    "f''(.25)=\\frac{f'(.50)−f'(0)}{.50}\\\\ \\rightarrow 2[ f(.50)-a] &=f''(.25) \\\\\n",
    "f''(.50)=\\frac{f'(.75)−f'(.50)}{.50}\\\\ \\rightarrow 2[ f(.75)-f(.50)] &=f''(.50) \\\\\n",
    "f''(.75)=\\frac{f'(1)−f'(.75)}{.50}\\\\ \\rightarrow 2[ b-f(.75)] &=f''(.75)\n",
    "\\end{split}\n",
    "\\end{equation}\n"
   ]
  },
  {
   "cell_type": "markdown",
   "metadata": {},
   "source": [
    "----------\n",
    "__Ejercicio 4 (indexación)__. `Julia` es más eficiente\n",
    "si se utiliza un único índice para acceder a los elementos\n",
    "de una matriz, además que puede simplificar algunos problemas. Escribe una función $\\phi$ que traduzca un par de\n",
    "índices $i,j$ a un único índice $k$, es decir:\n",
    "$$\\phi: (i,j) \\mapsto k.$$\n",
    "También encuentren $\\phi^{-1}$. Note que $\\phi$ deberá depender de las dimensiones del arreglo, por lo menos de una de ellas."
   ]
  },
  {
   "cell_type": "markdown",
   "metadata": {},
   "source": [
    "¿Como organiza los elementos de `Array` `Julia`?"
   ]
  },
  {
   "cell_type": "code",
   "execution_count": 33,
   "metadata": {},
   "outputs": [
    {
     "data": {
      "text/plain": [
       "3×2 Array{Int64,2}:\n",
       " 1  2\n",
       " 3  4\n",
       " 5  6"
      ]
     },
     "execution_count": 33,
     "metadata": {},
     "output_type": "execute_result"
    }
   ],
   "source": [
    "A =[1 2 ; 3 4 ; 5 6]"
   ]
  },
  {
   "cell_type": "code",
   "execution_count": 35,
   "metadata": {
    "scrolled": true
   },
   "outputs": [
    {
     "data": {
      "text/plain": [
       "5"
      ]
     },
     "execution_count": 35,
     "metadata": {},
     "output_type": "execute_result"
    }
   ],
   "source": [
    "A[3]"
   ]
  },
  {
   "cell_type": "code",
   "execution_count": 50,
   "metadata": {},
   "outputs": [
    {
     "data": {
      "text/plain": [
       "(3, 2)"
      ]
     },
     "execution_count": 50,
     "metadata": {},
     "output_type": "execute_result"
    }
   ],
   "source": [
    "size(A)"
   ]
  },
  {
   "cell_type": "markdown",
   "metadata": {},
   "source": [
    "Si denotamos los arreglos de esta forma, para acceder a la entrada $i,j$ donde $i$ determina renglon y $j$ columna, si suponemos que el numero máximo de $i$'s es $n$ y $j$'s es $m$, entonces julia ordena los números de la siguiente forma: \n",
    "\\begin{equation}\n",
    "\\begin{split}\n",
    "(1,1)&=1, \\\\\n",
    "(2,1)&=2 ,\\\\\n",
    "...,\\\\\n",
    "(n,1)&=n,\\\\\n",
    "(1,2)&=n+1,\\\\\n",
    "(2,2)&=n+2,\\\\\n",
    "...,\\\\\n",
    "(1,3)&=2*n+1,\\\\\n",
    "(2,3)&=2*n+2,\\\\\n",
    "...,\\\\\n",
    "(1,m)&=(m-1)*n+1,\\\\\n",
    "(2,m)&=(m-1)*n+2,\\\\\n",
    "...,\\\\\n",
    "(n,m)&=(m-1)*n+m=m*n\\\\ \n",
    "\\end{split}\n",
    "\\end{equation}\n",
    "\n",
    "Así para acceder al $(i,j)$ elemento, se tiene que $k$ debe tener la estructura: ]\n"
   ]
  },
  {
   "cell_type": "markdown",
   "metadata": {},
   "source": [
    "Para acceder al elemento $(2,2)$ que es $4$ en nuestro arreglo $A$. tenemos $k=(2-1)*3+2$ o bien, en codigo abstracto:"
   ]
  },
  {
   "cell_type": "code",
   "execution_count": 51,
   "metadata": {},
   "outputs": [
    {
     "data": {
      "text/plain": [
       "5"
      ]
     },
     "execution_count": 51,
     "metadata": {},
     "output_type": "execute_result"
    }
   ],
   "source": [
    "i=2\n",
    "j=2\n",
    "k=(j-1)*size(A)[1]+i"
   ]
  },
  {
   "cell_type": "code",
   "execution_count": 53,
   "metadata": {},
   "outputs": [
    {
     "data": {
      "text/plain": [
       "4"
      ]
     },
     "execution_count": 53,
     "metadata": {},
     "output_type": "execute_result"
    }
   ],
   "source": [
    "A[k]"
   ]
  },
  {
   "cell_type": "markdown",
   "metadata": {},
   "source": [
    "Si observamos bien este algoritmo es como si a una caja $B$ ordenada con $B[i][j]$ elementos, es como si se corriera i y despues j, donde para cada uno de estos elementos, se añadiera a una nueva caja $C$ la cual unicamente se ordenaria como $C[k]$ elementos, y cumpliria el mismo algoritmo de orden dado anteriormente, donde $(i,j)$ se relaciona con $k$ de la siguiente forma: $k=(j-1)*n+i$.   \n",
    "\n",
    "Comprobación:"
   ]
  },
  {
   "cell_type": "code",
   "execution_count": 58,
   "metadata": {},
   "outputs": [
    {
     "data": {
      "text/plain": [
       "3-element Array{Array{Int64,1},1}:\n",
       " [1, 2]\n",
       " [3, 4]\n",
       " [5, 6]"
      ]
     },
     "execution_count": 58,
     "metadata": {},
     "output_type": "execute_result"
    }
   ],
   "source": [
    "B=[[1,2],[3,4],[5,6]]"
   ]
  },
  {
   "cell_type": "code",
   "execution_count": 62,
   "metadata": {
    "scrolled": true
   },
   "outputs": [
    {
     "data": {
      "text/plain": [
       "2"
      ]
     },
     "execution_count": 62,
     "metadata": {},
     "output_type": "execute_result"
    }
   ],
   "source": [
    "length(B[1])"
   ]
  },
  {
   "cell_type": "code",
   "execution_count": 73,
   "metadata": {},
   "outputs": [
    {
     "data": {
      "text/plain": [
       "3"
      ]
     },
     "execution_count": 73,
     "metadata": {},
     "output_type": "execute_result"
    }
   ],
   "source": [
    "length(B)"
   ]
  },
  {
   "cell_type": "code",
   "execution_count": 70,
   "metadata": {},
   "outputs": [
    {
     "data": {
      "text/plain": [
       "6-element Array{Any,1}:\n",
       " 1\n",
       " 3\n",
       " 5\n",
       " 2\n",
       " 4\n",
       " 6"
      ]
     },
     "execution_count": 70,
     "metadata": {},
     "output_type": "execute_result"
    }
   ],
   "source": [
    "C=[]\n",
    "for j in 1:length(B[1])\n",
    "    for i in 1:length(B)\n",
    "        push!(C,B[i][j])\n",
    "    end\n",
    "end\n",
    "C"
   ]
  },
  {
   "cell_type": "code",
   "execution_count": 71,
   "metadata": {},
   "outputs": [
    {
     "data": {
      "text/plain": [
       "4"
      ]
     },
     "execution_count": 71,
     "metadata": {},
     "output_type": "execute_result"
    }
   ],
   "source": [
    "C[k]"
   ]
  },
  {
   "cell_type": "markdown",
   "metadata": {},
   "source": [
    "*****\n",
    "```python\n",
    "F F M G\n",
    "```"
   ]
  }
 ],
 "metadata": {
  "kernelspec": {
   "display_name": "Julia 0.6.0",
   "language": "julia",
   "name": "julia-0.6"
  },
  "language_info": {
   "file_extension": ".jl",
   "mimetype": "application/julia",
   "name": "julia",
   "version": "0.6.0"
  }
 },
 "nbformat": 4,
 "nbformat_minor": 2
}
