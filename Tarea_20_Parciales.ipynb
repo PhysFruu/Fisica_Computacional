{
 "cells": [
  {
   "cell_type": "markdown",
   "metadata": {},
   "source": [
    "# Ecuaciones diferenciales parciales"
   ]
  },
  {
   "cell_type": "markdown",
   "metadata": {},
   "source": [
    "------------\n",
    "Para una malla de 5 por 6 resolver la ecuación de Laplace utilizando las condiciones  a la frontera siguiente: en la parte superior, toma los valores\n",
    "$\\{0, 70.7107, 100., 70.7107, 0\\}$ y en el resto de bordes es cero. El sistema\n",
    "de ecuaciones es el siguiente\n",
    "\n",
    "\n",
    "\\begin{align*}\n",
    "-4 f_{2,2}+f_{2,3}+f_{3,2}=0,\\\\f_{2,2}-4 f_{2,3}+f_{2,4}+f_{3,3}=0,\\\\f_{2,3}-4 f_{2,4}+f_{2,5}+f_{3,4}=0,\\\\f_{2,4}-4\n",
    "   f_{2,5}+f_{2,6}+f_{3,5}=0,\\\\f_{2,5}-4 f_{2,6}+f_{3,6}+70.7107=0,\\\\f_{2,2}-4 f_{3,2}+f_{3,3}+f_{4,2}=0,\\\\f_{2,3}+f_{3,2}-4\n",
    "   f_{3,3}+f_{3,4}+f_{4,3}=0,\\\\f_{2,4}+f_{3,3}-4 f_{3,4}+f_{3,5}+f_{4,4}=0,\\\\f_{2,5}+f_{3,4}-4 f_{3,5}+f_{3,6}+f_{4,5}=0,\\\\f_{2,6}+f_{3,5}-4\n",
    "   f_{3,6}+f_{4,6}+100.=0,\\\\f_{3,2}-4 f_{4,2}+f_{4,3}=0,\\\\f_{3,3}+f_{4,2}-4 f_{4,3}+f_{4,4}=0,\\\\f_{3,4}+f_{4,3}-4 f_{4,4}+f_{4,5}=0,\\\\f_{3,5}+f_{4,4}-4\n",
    "   f_{4,5}+f_{4,6}=0,\\\\f_{3,6}+f_{4,5}-4 f_{4,6}+70.7107=0.\n",
    "\\end{align*}\n",
    "\n",
    "El sistema de ecuaciones resultante es $A \\vec f +\\vec b= \\vec 0$ con $A$ igual a la siguiente matriz\n",
    "\n",
    "$$\n",
    "\\left(\n",
    "\\begin{array}{ccccccccccccccc}\n",
    " -4. & 1. & 0 & 0 & 0 & 1. & 0 & 0 & 0 & 0 & 0 & 0 & 0 & 0 & 0 \\\\\n",
    " 1. & -4. & 1. & 0 & 0 & 0 & 1. & 0 & 0 & 0 & 0 & 0 & 0 & 0 & 0 \\\\\n",
    " 0 & 1. & -4. & 1. & 0 & 0 & 0 & 1. & 0 & 0 & 0 & 0 & 0 & 0 & 0 \\\\\n",
    " 0 & 0 & 1. & -4. & 1. & 0 & 0 & 0 & 1. & 0 & 0 & 0 & 0 & 0 & 0 \\\\\n",
    " 0 & 0 & 0 & 1. & -4. & 0 & 0 & 0 & 0 & 1. & 0 & 0 & 0 & 0 & 0 \\\\\n",
    " 1. & 0 & 0 & 0 & 0 & -4. & 1. & 0 & 0 & 0 & 1. & 0 & 0 & 0 & 0 \\\\\n",
    " 0 & 1. & 0 & 0 & 0 & 1. & -4. & 1. & 0 & 0 & 0 & 1. & 0 & 0 & 0 \\\\\n",
    " 0 & 0 & 1. & 0 & 0 & 0 & 1. & -4. & 1. & 0 & 0 & 0 & 1. & 0 & 0 \\\\\n",
    " 0 & 0 & 0 & 1. & 0 & 0 & 0 & 1. & -4. & 1. & 0 & 0 & 0 & 1. & 0 \\\\\n",
    " 0 & 0 & 0 & 0 & 1. & 0 & 0 & 0 & 1. & -4. & 0 & 0 & 0 & 0 & 1. \\\\\n",
    " 0 & 0 & 0 & 0 & 0 & 1. & 0 & 0 & 0 & 0 & -4. & 1. & 0 & 0 & 0 \\\\\n",
    " 0 & 0 & 0 & 0 & 0 & 0 & 1. & 0 & 0 & 0 & 1. & -4. & 1. & 0 & 0 \\\\\n",
    " 0 & 0 & 0 & 0 & 0 & 0 & 0 & 1. & 0 & 0 & 0 & 1. & -4. & 1. & 0 \\\\\n",
    " 0 & 0 & 0 & 0 & 0 & 0 & 0 & 0 & 1. & 0 & 0 & 0 & 1. & -4. & 1. \\\\\n",
    " 0 & 0 & 0 & 0 & 0 & 0 & 0 & 0 & 0 & 1. & 0 & 0 & 0 & 1. & -4. \\\\\n",
    "\\end{array}\n",
    "\\right)\n",
    "$$\n",
    "y $b$ de la forma\n",
    "\n",
    "$$\n",
    "(0.,0.,0.,0.,70.7107,0.,0.,0.,0.,100.,0.,0.,0.,0.,70.7107)^T.\n",
    "$$\n",
    "\n",
    "La solución a este sistema es $\\vec f=-A^{-1}\\vec b$."
   ]
  },
  {
   "cell_type": "markdown",
   "metadata": {},
   "source": [
    "__Tarea 20: Ejercicio 1:__ Crear una rutina que construya $A$ y $\\vec b$ para este sistema. Resuelvalo utilizando la función `inv` y grafique $\\vec f$ utilizando la funcion `pcolormesh`. Recuerde que aqui $\\vec f$ es un vector, para volverlo de nuevo una matriz con entradas $f_{i,j}$ pueden usar la función `reshape`."
   ]
  },
  {
   "cell_type": "markdown",
   "metadata": {},
   "source": [
    "Tenemos un sistema que podemos resolver de la siguiente forma:\n",
    "$$M\\vec{x}+\\vec{b}=0 \\rightarrow \\vec{x}=-M^{-1}\\vec{b}$$"
   ]
  },
  {
   "cell_type": "code",
   "execution_count": 1,
   "metadata": {},
   "outputs": [
    {
     "data": {
      "text/plain": [
       "15×15 Array{Int64,2}:\n",
       " -4   1   0   0   0   1   0   0   0   0   0   0   0   0   0\n",
       "  1  -4   1   0   0   0   1   0   0   0   0   0   0   0   0\n",
       "  0   1  -4   1   0   0   0   1   0   0   0   0   0   0   0\n",
       "  0   0   1  -4   1   0   0   0   1   0   0   0   0   0   0\n",
       "  0   0   0   1  -4   0   0   0   0   1   0   0   0   0   0\n",
       "  1   0   0   0   0  -4   1   0   0   0   1   0   0   0   0\n",
       "  0   1   0   0   0   1  -4   1   0   0   0   1   0   0   0\n",
       "  0   0   1   0   0   0   1  -4   1   0   0   0   1   0   0\n",
       "  0   0   0   1   0   0   0   1  -4   1   0   0   0   1   0\n",
       "  0   0   0   0   1   0   0   0   1  -4   0   0   0   0   1\n",
       "  0   0   0   0   0   1   0   0   0   0  -4   1   0   0   0\n",
       "  0   0   0   0   0   0   1   0   0   0   1  -4   1   0   0\n",
       "  0   0   0   0   0   0   0   1   0   0   0   1  -4   1   0\n",
       "  0   0   0   0   0   0   0   0   1   0   0   0   1  -4   1\n",
       "  0   0   0   0   0   0   0   0   0   1   0   0   0   1  -4"
      ]
     },
     "execution_count": 1,
     "metadata": {},
     "output_type": "execute_result"
    }
   ],
   "source": [
    "M=[0]\n",
    "\n",
    "    for i in 1:4\n",
    "        push!(M,float(-4))\n",
    "        push!(M,float(1))\n",
    "        for j in 1:3\n",
    "            push!(M,float(0))\n",
    "        end\n",
    "        push!(M,float(1))\n",
    "        for j in 1:9\n",
    "            push!(M,float(0))\n",
    "        end\n",
    "        push!(M,float(1))\n",
    "    end\n",
    "    push!(M,float(-4))\n",
    "    \n",
    "    for j in 1:4\n",
    "        push!(M,float(0))\n",
    "    end\n",
    "    push!(M,float(1))\n",
    "    for j in 1:5\n",
    "        push!(M,float(0))\n",
    "    end\n",
    "    push!(M,float(1))\n",
    "    for j in 1:4\n",
    "        push!(M,float(0))\n",
    "    end\n",
    "####################\n",
    "    for i in 1:4\n",
    "        push!(M,float(-4))\n",
    "        push!(M,float(1))\n",
    "        for j in 1:3\n",
    "            push!(M,float(0))\n",
    "        end\n",
    "        push!(M,float(1))\n",
    "        for j in 1:5\n",
    "            push!(M,float(0))\n",
    "        end\n",
    "        push!(M,float(1))\n",
    "        for j in 1:3\n",
    "            push!(M,float(0))\n",
    "        end\n",
    "        push!(M,float(1))\n",
    "    \n",
    "    end\n",
    "    push!(M,float(-4))\n",
    "    \n",
    "    for j in 1:4\n",
    "        push!(M,float(0))\n",
    "    end\n",
    "    push!(M,float(1))\n",
    "    for j in 1:5\n",
    "        push!(M,float(0))\n",
    "    end\n",
    "    push!(M,float(1))\n",
    "    for j in 1:4\n",
    "        push!(M,float(0))\n",
    "    end\n",
    "####################\n",
    "\n",
    "for k in 1:4\n",
    "    push!(M,float(-4))\n",
    "    push!(M,float(1))\n",
    "    for j in 1:9\n",
    "        push!(M,float(0))\n",
    "    end\n",
    "    push!(M,float(1))\n",
    "    for j in 1:3\n",
    "        push!(M,float(0))\n",
    "    end\n",
    "    push!(M,float(1))\n",
    "end\n",
    "push!(M,float(-4))\n",
    "shift!(M)\n",
    "M=reshape(M,15,15)"
   ]
  },
  {
   "cell_type": "code",
   "execution_count": 2,
   "metadata": {},
   "outputs": [
    {
     "data": {
      "text/plain": [
       "15×15 Array{Float64,2}:\n",
       " -0.300139    -0.100955    -0.0375977  …  -0.00969818  -0.00403337\n",
       " -0.100955    -0.337737    -0.115781      -0.0224003   -0.00969818\n",
       " -0.0375977   -0.115781    -0.343053      -0.038858    -0.0183669 \n",
       " -0.0148264   -0.0429131   -0.115781      -0.0505577   -0.0291599 \n",
       " -0.00531542  -0.0148264   -0.0375977     -0.0291599   -0.0321907 \n",
       " -0.099603    -0.0660818   -0.0346097  …  -0.0163924   -0.00643529\n",
       " -0.0660818   -0.134213    -0.0824742     -0.041045    -0.0163924 \n",
       " -0.0346097   -0.0824742   -0.140648      -0.0824742   -0.0346097 \n",
       " -0.0163924   -0.041045    -0.0824742     -0.134213    -0.0660818 \n",
       " -0.00643529  -0.0163924   -0.0346097     -0.0660818   -0.099603  \n",
       " -0.0321907   -0.0291599   -0.0183669  …  -0.0148264   -0.00531542\n",
       " -0.0291599   -0.0505577   -0.038858      -0.0429131   -0.0148264 \n",
       " -0.0183669   -0.038858    -0.054591      -0.115781    -0.0375977 \n",
       " -0.00969818  -0.0224003   -0.038858      -0.337737    -0.100955  \n",
       " -0.00403337  -0.00969818  -0.0183669     -0.100955    -0.300139  "
      ]
     },
     "execution_count": 2,
     "metadata": {},
     "output_type": "execute_result"
    }
   ],
   "source": [
    "Minv=inv(M)"
   ]
  },
  {
   "cell_type": "code",
   "execution_count": 3,
   "metadata": {},
   "outputs": [],
   "source": [
    "b=[0.,0.,0.,0.,70.7107,0.,0.,0.,0.,100.,0.,0.,0.,0.,70.7107];"
   ]
  },
  {
   "cell_type": "code",
   "execution_count": 4,
   "metadata": {},
   "outputs": [
    {
     "data": {
      "text/plain": [
       "15-element Array{Float64,1}:\n",
       "  1.30459\n",
       "  3.37339\n",
       "  7.41827\n",
       " 15.8087 \n",
       " 33.4596 \n",
       "  1.84497\n",
       "  4.77069\n",
       " 10.491  \n",
       " 22.3568 \n",
       " 47.319  \n",
       "  1.30459\n",
       "  3.37339\n",
       "  7.41827\n",
       " 15.8087 \n",
       " 33.4596 "
      ]
     },
     "execution_count": 4,
     "metadata": {},
     "output_type": "execute_result"
    }
   ],
   "source": [
    "f=-Minv*b"
   ]
  },
  {
   "cell_type": "code",
   "execution_count": 5,
   "metadata": {},
   "outputs": [],
   "source": [
    "using PyPlot"
   ]
  },
  {
   "cell_type": "code",
   "execution_count": 6,
   "metadata": {},
   "outputs": [
    {
     "data": {
      "text/plain": [
       "15×3 Array{Float64,2}:\n",
       " 2.0  2.0   1.30459\n",
       " 2.0  3.0   3.37339\n",
       " 2.0  4.0   7.41827\n",
       " 2.0  5.0  15.8087 \n",
       " 2.0  6.0  33.4596 \n",
       " 3.0  2.0   1.84497\n",
       " 3.0  3.0   4.77069\n",
       " 3.0  4.0  10.491  \n",
       " 3.0  5.0  22.3568 \n",
       " 3.0  6.0  47.319  \n",
       " 4.0  2.0   1.30459\n",
       " 4.0  3.0   3.37339\n",
       " 4.0  4.0   7.41827\n",
       " 4.0  5.0  15.8087 \n",
       " 4.0  6.0  33.4596 "
      ]
     },
     "execution_count": 6,
     "metadata": {},
     "output_type": "execute_result"
    }
   ],
   "source": [
    "pos=[2 2;\n",
    "2 3;\n",
    "2 4;\n",
    "2 5;\n",
    "2 6;\n",
    "3 2;\n",
    "3 3;\n",
    "3 4;\n",
    "3 5;\n",
    "3 6;\n",
    "4 2;\n",
    "4 3;\n",
    "4 4;\n",
    "4 5;\n",
    "4 6];\n",
    "Data=hcat(pos,f)\n",
    "#Ideas para poder graficar, ya que el comando pcolor sólo le importa el arreglo de números y lo interpreta como posición"
   ]
  },
  {
   "cell_type": "code",
   "execution_count": 7,
   "metadata": {},
   "outputs": [
    {
     "data": {
      "text/plain": [
       "5×3 Array{Float64,2}:\n",
       "  1.30459   1.84497   1.30459\n",
       "  3.37339   4.77069   3.37339\n",
       "  7.41827  10.491     7.41827\n",
       " 15.8087   22.3568   15.8087 \n",
       " 33.4596   47.319    33.4596 "
      ]
     },
     "execution_count": 7,
     "metadata": {},
     "output_type": "execute_result"
    }
   ],
   "source": [
    "COLOR=reshape(f,5,3)"
   ]
  },
  {
   "cell_type": "code",
   "execution_count": 8,
   "metadata": {},
   "outputs": [
    {
     "data": {
      "image/png": "[encoded data removed]",
      "text/plain": [
       "PyPlot.Figure(PyObject <matplotlib.figure.Figure object at 0x7fc9c81f83d0>)"
      ]
     },
     "metadata": {},
     "output_type": "display_data"
    },
    {
     "name": "stderr",
     "output_type": "stream",
     "text": [
      "/usr/local/lib/python2.7/dist-packages/matplotlib/axes/_axes.py:545: UserWarning: No labelled objects found. Use label='...' kwarg on individual plots.\n",
      "  warnings.warn(\"No labelled objects found. \"\n"
     ]
    }
   ],
   "source": [
    "pcolor(COLOR,cmap=\"Blues\")\n",
    "title(\"Solución de f(x,y)\")\n",
    "xlabel(\"Posición X+2\")\n",
    "ylabel(\"Posición Y+2\")\n",
    "colorbar()\n",
    "legend()\n",
    "show()"
   ]
  },
  {
   "cell_type": "markdown",
   "metadata": {},
   "source": [
    "--------------\n",
    "__ Ejercicio 2 (Puntos extra):__ Resolver ecuación de Poisson unidimensional con $\\rho (x)=\\cos(x)$, en el dominio $[0,2 \\pi]$, utilizando una malla con 12 puntos. Aquí nuevamente hay 10 incognitas, sin embargo note que para el método es mas conveniente definir $\\vec f$ incluyendo las condiciones de frontera."
   ]
  },
  {
   "cell_type": "markdown",
   "metadata": {},
   "source": [
    "$$\\nabla^2 \\Psi= \\cos(x) \\rightarrow \\partial^2_x\\Psi=\\cos(x)$$"
   ]
  },
  {
   "cell_type": "markdown",
   "metadata": {},
   "source": [
    "En nuestro caso:   \n",
    "$f(x_i)=\\cos(x_i)\\\\\n",
    "a=1\\\\\n",
    "b=1\\\\\n",
    "n=12$   \n",
    "Dominio $[0,2 \\pi]$, utilizando una malla con 12 puntos."
   ]
  },
  {
   "cell_type": "code",
   "execution_count": 24,
   "metadata": {},
   "outputs": [
    {
     "data": {
      "text/plain": [
       "0.5711986642890533"
      ]
     },
     "execution_count": 24,
     "metadata": {},
     "output_type": "execute_result"
    }
   ],
   "source": [
    "n=12\n",
    "listx=linspace(0,2*pi,n)\n",
    "a=0\n",
    "b=0;\n",
    "h=listx[2]-listx[1]"
   ]
  },
  {
   "cell_type": "markdown",
   "metadata": {},
   "source": [
    "Donde utilizaremos condiciones a la frontera de Dirichlet tal que $\\Psi(0)=\\Psi(2\\pi)=1$. Donde por la aproximación que construimos en el notebook pasado tenemos si $i \\in \\{2,...,11\\}$ denota el numero de ecuación y $\\Psi_{i\\pm 1}=\\Psi(x\\pm h)$. $$\\cos(x_i)=\\Psi''(x_i)=\\Psi_i'' \\approx \\frac{\\Psi_{i+1}-2\\Psi_i+\\Psi_{i-1}}{h^2}$$ \n",
    "Esto nos genera una matriz $A\\vec{\\Psi}=\\vec{s}$, $\\delta$ es la delta de kronecker.\n",
    "$$\\vec{b}_i=h^2\\cos(x_i)-\\Psi(0)\\delta_{i,2}-\\Psi(2\\pi)\\delta_{i,11}$$\n",
    "Así $A$ cumple la propiedad de ser cuadrada simetrica y de dimensión $(12-2)$ y queda determinada por un $-2$ en la diagonal y un $1$ en el elemento inmediato a la matriz, esto es:\n",
    "$$A_{i,i}=-2 ; A_{j-1,j}=A_{i,i-1}=1$$"
   ]
  },
  {
   "cell_type": "markdown",
   "metadata": {},
   "source": [
    "Usando que la ordenación de elementos $A_{i,j}$ viene dado por $A_{k}$ donde $k=(j-1)*n+i$, tenemos."
   ]
  },
  {
   "cell_type": "code",
   "execution_count": 25,
   "metadata": {},
   "outputs": [
    {
     "data": {
      "text/plain": [
       "10×10 Array{Float64,2}:\n",
       " -2.0   1.0   0.0   0.0   0.0   0.0   0.0   0.0   0.0   0.0\n",
       "  1.0  -2.0   1.0   0.0   0.0   0.0   0.0   0.0   0.0   0.0\n",
       "  0.0   1.0  -2.0   1.0   0.0   0.0   0.0   0.0   0.0   0.0\n",
       "  0.0   0.0   1.0  -2.0   1.0   0.0   0.0   0.0   0.0   0.0\n",
       "  0.0   0.0   0.0   1.0  -2.0   1.0   0.0   0.0   0.0   0.0\n",
       "  0.0   0.0   0.0   0.0   1.0  -2.0   1.0   0.0   0.0   0.0\n",
       "  0.0   0.0   0.0   0.0   0.0   1.0  -2.0   1.0   0.0   0.0\n",
       "  0.0   0.0   0.0   0.0   0.0   0.0   1.0  -2.0   1.0   0.0\n",
       "  0.0   0.0   0.0   0.0   0.0   0.0   0.0   1.0  -2.0   1.0\n",
       "  0.0   0.0   0.0   0.0   0.0   0.0   0.0   0.0   1.0  -2.0"
      ]
     },
     "execution_count": 25,
     "metadata": {},
     "output_type": "execute_result"
    }
   ],
   "source": [
    "A=zeros(n-2,n-2)\n",
    "for i in 1:(n-2)\n",
    "    for j in 1:(n-2)\n",
    "        if i==j\n",
    "            k=(i-1)*(n-2)+j\n",
    "            A[k]=-2\n",
    "        elseif i==j+1\n",
    "            if j>0\n",
    "                k1=(j-1)*(n-2)+i\n",
    "                A[k1]=1\n",
    "            end\n",
    "            if i>0\n",
    "                k2=(i-1)*(n-2)+j\n",
    "                A[k2]=1\n",
    "            end\n",
    "        end\n",
    "    end\n",
    "end\n",
    "A"
   ]
  },
  {
   "cell_type": "code",
   "execution_count": 26,
   "metadata": {},
   "outputs": [
    {
     "data": {
      "text/plain": [
       "12-element Array{Float64,1}:\n",
       " 0.0     \n",
       " 0.163134\n",
       " 0.600742\n",
       " 1.17389 \n",
       " 1.7006  \n",
       " 2.01365 \n",
       " 2.01365 \n",
       " 1.7006  \n",
       " 1.17389 \n",
       " 0.600742\n",
       " 0.163134\n",
       " 0.0     "
      ]
     },
     "execution_count": 26,
     "metadata": {},
     "output_type": "execute_result"
    }
   ],
   "source": [
    "s=h^2*cos.(listx)\n",
    "#Se quitan los extremos ya que ya los conocemos por las condiciones iniciales\n",
    "pop!(s)\n",
    "shift!(s)\n",
    "#Se aplcia la matriz\n",
    "ΨM=inv(A)*s\n",
    "#Se colocan las condiciones iniciales a la solución\n",
    "unshift!(ΨM,a)\n",
    "push!(ΨM,b)\n",
    "ΨM"
   ]
  },
  {
   "cell_type": "markdown",
   "metadata": {},
   "source": [
    "Otro método es el de relajación.   \n",
    "Utilizaremos condiciones a la frontera de Dirichlet tal que $\\Psi(0)=a, \\Psi(2\\pi)=b$.\n",
    "Así de manera general para todo subindice distinta de $1$ y $n$:\n",
    "$$\\Psi_i=\\frac{\\Psi_{i+1}+\\Psi_{i-1}-h^2f(x_i)}{2}$$"
   ]
  },
  {
   "cell_type": "code",
   "execution_count": 27,
   "metadata": {},
   "outputs": [
    {
     "data": {
      "text/plain": [
       "PartialIteration (generic function with 4 methods)"
      ]
     },
     "execution_count": 27,
     "metadata": {},
     "output_type": "execute_result"
    }
   ],
   "source": [
    "#Escribios una función que corresponda a la descrita anteriormente. Esto denota un ciclo, que podemos hacer converger si colocamos las condiciones iniciales y finales en dicho arreglo\n",
    "function PartialIteration(listx,Fi,a=0,b=0,m=1000)\n",
    "    n=length(listx)\n",
    "    h=listx[2]-listx[1]\n",
    "    #Este es el arreglo que queremos volver resultado\n",
    "    S=zeros(n)\n",
    "    #Limitamos los valores de frontera a que tomen dicho valor\n",
    "    S[1]=a\n",
    "    S[n]=b\n",
    "    #Iniciamos la busqueda de convergencia\n",
    "    for k in 1:m\n",
    "        #Aquí probamos el ciclo para cada función Psi_i\n",
    "        for i in 2:(n-1)\n",
    "            S[i]=(S[i+1]+S[i-1]-h^2*Fi(listx[i]))*1/2\n",
    "        end\n",
    "    end\n",
    "    return S\n",
    "end"
   ]
  },
  {
   "cell_type": "code",
   "execution_count": 28,
   "metadata": {},
   "outputs": [
    {
     "data": {
      "text/plain": [
       "Fi (generic function with 1 method)"
      ]
     },
     "execution_count": 28,
     "metadata": {},
     "output_type": "execute_result"
    }
   ],
   "source": [
    "Fi(x)=cos(x)"
   ]
  },
  {
   "cell_type": "code",
   "execution_count": 33,
   "metadata": {},
   "outputs": [
    {
     "data": {
      "text/plain": [
       "12-element Array{Float64,1}:\n",
       " 0.0     \n",
       " 0.112765\n",
       " 0.508003\n",
       " 1.0495  \n",
       " 1.55696 \n",
       " 1.86368 \n",
       " 1.86976 \n",
       " 1.57372 \n",
       " 1.07275 \n",
       " 0.53132 \n",
       " 0.128423\n",
       " 0.0     "
      ]
     },
     "execution_count": 33,
     "metadata": {},
     "output_type": "execute_result"
    }
   ],
   "source": [
    "ΨI=PartialIteration(listx,Fi,a,b,30)"
   ]
  },
  {
   "cell_type": "code",
   "execution_count": 34,
   "metadata": {},
   "outputs": [
    {
     "data": {
      "image/png": "[encoded data removed]",
      "text/plain": [
       "PyPlot.Figure(PyObject <matplotlib.figure.Figure object at 0x7fc9c48e58d0>)"
      ]
     },
     "metadata": {},
     "output_type": "display_data"
    }
   ],
   "source": [
    "using PyPlot\n",
    "scatter(listx,ΨI,label=\"Solución por iteración m=30\")\n",
    "scatter(listx,ΨM, label=\"Solución por matrices\")\n",
    "plot(linspace(0,2*pi,1000),1-cos.(linspace(0,2*pi,1000)), label=\"Solución analítica\")\n",
    "xlabel(\"x\")\n",
    "ylabel(\"Ψ(x)\")\n",
    "legend()\n",
    "show()"
   ]
  },
  {
   "cell_type": "markdown",
   "metadata": {},
   "source": [
    "Se observó que entre más iteraciones tenga el resultado, más se parece a la solución encontrada por el método matricial."
   ]
  },
  {
   "cell_type": "markdown",
   "metadata": {},
   "source": [
    "-----------------\n",
    "__Ejercicio 3 (Puntos extra):__ Resolver ecuación de calor en una dimensión, en el dominio $[0,1]$, con $f(0)=10$, $f(1)=0$, en una malla con 12 puntos. Aqui obviamente habrá 10 incognitas: $f_1, \\dots, f_{10}$. La condición inicial que deberán usar es $\\vec f^{[0]}=(5,4,3,2,1,3,5,7,7,8)^{\\text{T}}$.\n",
    "* Utilizando método de Euler.\n",
    "* Utilizando Runge-Kutta de orden 4.\n",
    "* Puede hacer este ejercicio construyendo $A$ y $\\vec b$, para así utilizar las rutinas que ya tienen de RK4 y Euler, noten que aqui $A\\vec f +\\vec b$ define la función del sistema dinámico de $n=10$ dimensiones.\n",
    "* La otra opción es implementar una rutina que aplique el laplaciano discreto a $\\vec f$, digamos $\\vec r= D_{h_x}[\\vec f]$, de esta forma es facil construir la función que define el sistema dinámico en cada paso.\n",
    "* Graficar en varios tiempos (no en todos en caso de que hagan una partición grande, solo los primeros tiempos y los últimos)."
   ]
  },
  {
   "cell_type": "markdown",
   "metadata": {},
   "source": [
    "Ecuación de calor con constante =1\n",
    "$$\\partial_tu=\\nabla^2u$$ \n",
    "En el dominio $[0,1]$, con $u(0)=10$, $u(1)=0$, en una malla con 12 puntos."
   ]
  },
  {
   "cell_type": "code",
   "execution_count": 16,
   "metadata": {},
   "outputs": [
    {
     "data": {
      "text/plain": [
       "24"
      ]
     },
     "execution_count": 16,
     "metadata": {},
     "output_type": "execute_result"
    }
   ],
   "source": [
    "#Condicion a la frontera que no dependen del tiempo y son fijas (Fuente de temperatura constante)\n",
    "fi=10\n",
    "ff=0\n",
    "#Malla espacial de 12 puntos\n",
    "n=12\n",
    "listx=linspace(0,1,n)\n",
    "h=listx[2]-listx[1]\n",
    "#Condición inicial\n",
    "listF0=[fi,5,4,3,2,1,3,5,7,7,8,ff];\n",
    "#Tiempo inicial, final y numero de intervalos para el método\n",
    "ti=0\n",
    "tf=1500\n",
    "n=24"
   ]
  },
  {
   "cell_type": "markdown",
   "metadata": {},
   "source": [
    "Como sabemos: $$\\partial_t u_i=u''(x_i)=u_i'' \\approx \\frac{u_{i+1}\\delta_{i,12}-2u_i+u_{i-1}\\delta_{i,1}}{h^2}$$ "
   ]
  },
  {
   "cell_type": "code",
   "execution_count": 17,
   "metadata": {},
   "outputs": [
    {
     "data": {
      "text/plain": [
       "herramientas"
      ]
     },
     "execution_count": 17,
     "metadata": {},
     "output_type": "execute_result"
    }
   ],
   "source": [
    "include(\"herramientas.jl\")"
   ]
  },
  {
   "cell_type": "code",
   "execution_count": 18,
   "metadata": {},
   "outputs": [
    {
     "data": {
      "text/plain": [
       "Calor (generic function with 1 method)"
      ]
     },
     "execution_count": 18,
     "metadata": {},
     "output_type": "execute_result"
    }
   ],
   "source": [
    "function Calor(listx,F)\n",
    "    #Escribiremos una función tal que no conocemos F pero esta dada por condiciones iniciales en metodos de RK y euler\n",
    "    n=length(listx)\n",
    "    dtF=zeros(n)\n",
    "    h=listx[2]-listx[1]\n",
    "    for i in 2:n-1\n",
    "        #Asi la derivada parcial temporal se ve como:\n",
    "        dtF[i]=h^2*(F[i+1]+F[i-1]-2F[i])\n",
    "    end\n",
    "    return dtF\n",
    "end"
   ]
  },
  {
   "cell_type": "code",
   "execution_count": 19,
   "metadata": {},
   "outputs": [
    {
     "data": {
      "text/plain": [
       "F (generic function with 1 method)"
      ]
     },
     "execution_count": 19,
     "metadata": {},
     "output_type": "execute_result"
    }
   ],
   "source": [
    "F(f,t)=Calor(listx,f)"
   ]
  },
  {
   "cell_type": "code",
   "execution_count": 20,
   "metadata": {},
   "outputs": [
    {
     "data": {
      "image/png": "[encoded data removed]",
      "text/plain": [
       "PyPlot.Figure(PyObject <matplotlib.figure.Figure object at 0x7fc9c4ca8d90>)"
      ]
     },
     "metadata": {},
     "output_type": "display_data"
    }
   ],
   "source": [
    "SolEuler=herramientas.metodo_euler(F,listF0,ti,tf,n)\n",
    "#Así como aplicamos euler a calor, nos resuelve la ecuación diferencial parcial con condiciónes iniciales de F en t=0 como listF0 para la lista x, este comando nos devuelve listat ,listaF como solución ordenados para cada tiempo y posición. Así para cada [2][i] implica un t distinto tal que t=listat[i]\n",
    "for i in 1:length(SolEuler[2])\n",
    "scatter(listx,SolEuler[2][i])\n",
    "end"
   ]
  },
  {
   "cell_type": "code",
   "execution_count": 21,
   "metadata": {},
   "outputs": [
    {
     "data": {
      "image/png": "[encoded data removed]",
      "text/plain": [
       "PyPlot.Figure(PyObject <matplotlib.figure.Figure object at 0x7fc9c4ae9910>)"
      ]
     },
     "metadata": {},
     "output_type": "display_data"
    }
   ],
   "source": [
    "SolRK=herramientas.metodo_RK4(F,listF0,ti,tf,n)\n",
    "#Análogo para RK4\n",
    "for i in 1:length(SolRK[2])\n",
    "scatter(listx,SolRK[2][i])\n",
    "end"
   ]
  },
  {
   "cell_type": "markdown",
   "metadata": {},
   "source": [
    "*****\n",
    "```python\n",
    "F F M G\n",
    "```"
   ]
  }
 ],
 "metadata": {
  "kernelspec": {
   "display_name": "Julia 0.6.0",
   "language": "julia",
   "name": "julia-0.6"
  },
  "language_info": {
   "file_extension": ".jl",
   "mimetype": "application/julia",
   "name": "julia",
   "version": "0.6.0"
  }
 },
 "nbformat": 4,
 "nbformat_minor": 2
}
