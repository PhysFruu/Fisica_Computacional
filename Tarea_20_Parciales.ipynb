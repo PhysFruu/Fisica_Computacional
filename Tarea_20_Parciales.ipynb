{
 "cells": [
  {
   "cell_type": "markdown",
   "metadata": {},
   "source": [
    "# Ecuaciones diferenciales parciales"
   ]
  },
  {
   "cell_type": "markdown",
   "metadata": {},
   "source": [
    "------------\n",
    "Para una malla de 5 por 6 resolver la ecuación de Laplace utilizando las condiciones  a la frontera siguiente: en la parte superior, toma los valores\n",
    "$\\{0, 70.7107, 100., 70.7107, 0\\}$ y en el resto de bordes es cero. El sistema\n",
    "de ecuaciones es el siguiente\n",
    "\n",
    "\n",
    "\\begin{align*}\n",
    "-4 f_{2,2}+f_{2,3}+f_{3,2}=0,\\\\f_{2,2}-4 f_{2,3}+f_{2,4}+f_{3,3}=0,\\\\f_{2,3}-4 f_{2,4}+f_{2,5}+f_{3,4}=0,\\\\f_{2,4}-4\n",
    "   f_{2,5}+f_{2,6}+f_{3,5}=0,\\\\f_{2,5}-4 f_{2,6}+f_{3,6}+70.7107=0,\\\\f_{2,2}-4 f_{3,2}+f_{3,3}+f_{4,2}=0,\\\\f_{2,3}+f_{3,2}-4\n",
    "   f_{3,3}+f_{3,4}+f_{4,3}=0,\\\\f_{2,4}+f_{3,3}-4 f_{3,4}+f_{3,5}+f_{4,4}=0,\\\\f_{2,5}+f_{3,4}-4 f_{3,5}+f_{3,6}+f_{4,5}=0,\\\\f_{2,6}+f_{3,5}-4\n",
    "   f_{3,6}+f_{4,6}+100.=0,\\\\f_{3,2}-4 f_{4,2}+f_{4,3}=0,\\\\f_{3,3}+f_{4,2}-4 f_{4,3}+f_{4,4}=0,\\\\f_{3,4}+f_{4,3}-4 f_{4,4}+f_{4,5}=0,\\\\f_{3,5}+f_{4,4}-4\n",
    "   f_{4,5}+f_{4,6}=0,\\\\f_{3,6}+f_{4,5}-4 f_{4,6}+70.7107=0.\n",
    "\\end{align*}\n",
    "\n",
    "El sistema de ecuaciones resultante es $A \\vec f +\\vec b= \\vec 0$ con $A$ igual a la siguiente matriz\n",
    "\n",
    "$$\n",
    "\\left(\n",
    "\\begin{array}{ccccccccccccccc}\n",
    " -4. & 1. & 0 & 0 & 0 & 1. & 0 & 0 & 0 & 0 & 0 & 0 & 0 & 0 & 0 \\\\\n",
    " 1. & -4. & 1. & 0 & 0 & 0 & 1. & 0 & 0 & 0 & 0 & 0 & 0 & 0 & 0 \\\\\n",
    " 0 & 1. & -4. & 1. & 0 & 0 & 0 & 1. & 0 & 0 & 0 & 0 & 0 & 0 & 0 \\\\\n",
    " 0 & 0 & 1. & -4. & 1. & 0 & 0 & 0 & 1. & 0 & 0 & 0 & 0 & 0 & 0 \\\\\n",
    " 0 & 0 & 0 & 1. & -4. & 0 & 0 & 0 & 0 & 1. & 0 & 0 & 0 & 0 & 0 \\\\\n",
    " 1. & 0 & 0 & 0 & 0 & -4. & 1. & 0 & 0 & 0 & 1. & 0 & 0 & 0 & 0 \\\\\n",
    " 0 & 1. & 0 & 0 & 0 & 1. & -4. & 1. & 0 & 0 & 0 & 1. & 0 & 0 & 0 \\\\\n",
    " 0 & 0 & 1. & 0 & 0 & 0 & 1. & -4. & 1. & 0 & 0 & 0 & 1. & 0 & 0 \\\\\n",
    " 0 & 0 & 0 & 1. & 0 & 0 & 0 & 1. & -4. & 1. & 0 & 0 & 0 & 1. & 0 \\\\\n",
    " 0 & 0 & 0 & 0 & 1. & 0 & 0 & 0 & 1. & -4. & 0 & 0 & 0 & 0 & 1. \\\\\n",
    " 0 & 0 & 0 & 0 & 0 & 1. & 0 & 0 & 0 & 0 & -4. & 1. & 0 & 0 & 0 \\\\\n",
    " 0 & 0 & 0 & 0 & 0 & 0 & 1. & 0 & 0 & 0 & 1. & -4. & 1. & 0 & 0 \\\\\n",
    " 0 & 0 & 0 & 0 & 0 & 0 & 0 & 1. & 0 & 0 & 0 & 1. & -4. & 1. & 0 \\\\\n",
    " 0 & 0 & 0 & 0 & 0 & 0 & 0 & 0 & 1. & 0 & 0 & 0 & 1. & -4. & 1. \\\\\n",
    " 0 & 0 & 0 & 0 & 0 & 0 & 0 & 0 & 0 & 1. & 0 & 0 & 0 & 1. & -4. \\\\\n",
    "\\end{array}\n",
    "\\right)\n",
    "$$\n",
    "y $b$ de la forma\n",
    "\n",
    "$$\n",
    "(0.,0.,0.,0.,70.7107,0.,0.,0.,0.,100.,0.,0.,0.,0.,70.7107)^T.\n",
    "$$\n",
    "\n",
    "La solución a este sistema es $\\vec f=-A^{-1}\\vec b$."
   ]
  },
  {
   "cell_type": "markdown",
   "metadata": {},
   "source": [
    "__Tarea 20: Ejercicio 1:__ Crear una rutina que construya $A$ y $\\vec b$ para este sistema. Resuelvalo utilizando la función `inv` y grafique $\\vec f$ utilizando la funcion `pcolormesh`. Recuerde que aqui $\\vec f$ es un vector, para volverlo de nuevo una matriz con entradas $f_{i,j}$ pueden usar la función `reshape`."
   ]
  },
  {
   "cell_type": "markdown",
   "metadata": {},
   "source": [
    "Tenemos un sistema que podemos resolver de la siguiente forma:\n",
    "$$M\\vec{x}+\\vec{b}=0 \\rightarrow \\vec{x}=-M^{-1}\\vec{b}$$"
   ]
  },
  {
   "cell_type": "code",
   "execution_count": 149,
   "metadata": {},
   "outputs": [
    {
     "data": {
      "text/plain": [
       "15×15 Array{Int64,2}:\n",
       " -4   1   0   0   0   1   0   0   0   0   0   0   0   0   0\n",
       "  1  -4   1   0   0   0   0   0   0   0   0   0   0   0   0\n",
       "  0   1  -4   1   0   0   0   0   0   0   0   0   0   0   0\n",
       "  0   0   1  -4   1   0   0   0   0   0   0   0   0   0   0\n",
       "  0   0   0   1  -4   0   0   0   0   0   0   0   0   0   0\n",
       "  1   0   0   0   0  -4   1   0   0   0   1   0   0   0   0\n",
       "  0   1   0   0   0   1  -4   1   0   0   0   1   0   0   0\n",
       "  0   0   1   0   0   0   1  -4   1   0   0   0   1   0   0\n",
       "  0   0   0   1   0   0   0   1  -4   1   0   0   0   1   0\n",
       "  0   0   0   0   1   0   0   0   1  -4   0   0   0   0   1\n",
       "  0   0   0   0   0   1   0   0   0   0  -4   1   0   0   0\n",
       "  0   0   0   0   0   0   1   0   0   0   1  -4   1   0   0\n",
       "  0   0   0   0   0   0   0   1   0   0   0   1  -4   1   0\n",
       "  0   0   0   0   0   0   0   0   1   0   0   0   1  -4   1\n",
       "  0   0   0   0   0   0   0   0   0   1   0   0   0   1  -4"
      ]
     },
     "execution_count": 149,
     "metadata": {},
     "output_type": "execute_result"
    }
   ],
   "source": [
    "M=[0]\n",
    "for k in 1:2\n",
    "    for i in 1:4\n",
    "        push!(M,float(-4))\n",
    "        push!(M,float(1))\n",
    "        for j in 1:3\n",
    "            push!(M,float(0))\n",
    "        end\n",
    "        push!(M,float(1))\n",
    "        for j in 1:9\n",
    "            push!(M,float(0))\n",
    "        end\n",
    "        push!(M,float(1))\n",
    "    end\n",
    "    push!(M,float(-4))\n",
    "    \n",
    "    for j in 1:4\n",
    "        push!(M,float(0))\n",
    "    end\n",
    "    push!(M,float(1))\n",
    "    for j in 1:5\n",
    "        push!(M,float(0))\n",
    "    end\n",
    "    push!(M,float(1))\n",
    "    for j in 1:4\n",
    "        push!(M,float(0))\n",
    "    end\n",
    "end\n",
    "for k in 1:4\n",
    "    push!(M,float(-4))\n",
    "    push!(M,float(1))\n",
    "    for j in 1:9\n",
    "        push!(M,float(0))\n",
    "    end\n",
    "    push!(M,float(1))\n",
    "    for j in 1:3\n",
    "        push!(M,float(0))\n",
    "    end\n",
    "    push!(M,float(1))\n",
    "end\n",
    "push!(M,float(-4))\n",
    "shift!(M)\n",
    "M=reshape(M,15,15)"
   ]
  },
  {
   "cell_type": "code",
   "execution_count": 151,
   "metadata": {},
   "outputs": [
    {
     "data": {
      "text/plain": [
       "15×15 Array{Float64,2}:\n",
       " -0.293358    -0.0867961   -0.0260462  …  -0.00277801   -0.000963045\n",
       " -0.0786032   -0.291199    -0.0787492     -0.000744348  -0.000258041\n",
       " -0.0210544   -0.0779997   -0.288951      -0.000199379  -6.91181e-5 \n",
       " -0.00561451  -0.0207999   -0.0770535     -5.31677e-5   -1.84315e-5 \n",
       " -0.00140363  -0.00519998  -0.0192634     -1.32919e-5   -4.60787e-6 \n",
       " -0.09483     -0.0559856   -0.0254354  …  -0.0103677    -0.00359414 \n",
       " -0.0559856   -0.112711    -0.0619067     -0.0270453    -0.00965349 \n",
       " -0.0254354   -0.0619067   -0.113722      -0.0608469    -0.0233158  \n",
       " -0.0103677   -0.0270453   -0.0608469     -0.109947     -0.0511704  \n",
       " -0.00359414  -0.00965349  -0.0233158     -0.0511704    -0.086628   \n",
       " -0.029976    -0.024435    -0.0137889  …  -0.0116475    -0.00376002 \n",
       " -0.0250739   -0.0417542   -0.0297201     -0.0362223    -0.0114459  \n",
       " -0.014334    -0.0298705   -0.0431846     -0.106196     -0.0323703  \n",
       " -0.00682674  -0.0158211   -0.0292961     -0.327716     -0.0947194  \n",
       " -0.00260522  -0.00636865  -0.013153      -0.0947216    -0.295337   "
      ]
     },
     "execution_count": 151,
     "metadata": {},
     "output_type": "execute_result"
    }
   ],
   "source": [
    "Minv=inv(M)"
   ]
  },
  {
   "cell_type": "code",
   "execution_count": 310,
   "metadata": {},
   "outputs": [],
   "source": [
    "b=[0.,0.,0.,0.,70.7107,0.,0.,0.,0.,100.,0.,0.,0.,0.,70.7107];"
   ]
  },
  {
   "cell_type": "code",
   "execution_count": 164,
   "metadata": {},
   "outputs": [
    {
     "data": {
      "text/plain": [
       "15-element Array{Float64,1}:\n",
       "  0.334266\n",
       "  0.427893\n",
       "  1.37731 \n",
       "  5.08133 \n",
       " 18.948   \n",
       "  0.909173\n",
       "  2.52207 \n",
       "  6.53899 \n",
       " 16.7101  \n",
       " 41.7852  \n",
       "  0.780352\n",
       "  2.21223 \n",
       "  5.54651 \n",
       " 13.4348  \n",
       " 31.4827  "
      ]
     },
     "execution_count": 164,
     "metadata": {},
     "output_type": "execute_result"
    }
   ],
   "source": [
    "x=-Minv*b"
   ]
  },
  {
   "cell_type": "code",
   "execution_count": 169,
   "metadata": {},
   "outputs": [],
   "source": [
    "using PyPlot"
   ]
  },
  {
   "cell_type": "code",
   "execution_count": 311,
   "metadata": {},
   "outputs": [],
   "source": [
    "pos=[2 2\n",
    "2 3\n",
    "2 4\n",
    "2 5\n",
    "2 6\n",
    "3 2\n",
    "3 3\n",
    "3 4\n",
    "3 5\n",
    "3 6\n",
    "4 2\n",
    "4 3\n",
    "4 4\n",
    "4 5\n",
    "4 6];"
   ]
  },
  {
   "cell_type": "code",
   "execution_count": 231,
   "metadata": {},
   "outputs": [
    {
     "data": {
      "text/plain": [
       "15×3 Array{Float64,2}:\n",
       " 2.0  2.0   0.334266\n",
       " 2.0  3.0   0.427893\n",
       " 2.0  4.0   1.37731 \n",
       " 2.0  5.0   5.08133 \n",
       " 2.0  6.0  18.948   \n",
       " 3.0  2.0   0.909173\n",
       " 3.0  3.0   2.52207 \n",
       " 3.0  4.0   6.53899 \n",
       " 3.0  5.0  16.7101  \n",
       " 3.0  6.0  41.7852  \n",
       " 4.0  2.0   0.780352\n",
       " 4.0  3.0   2.21223 \n",
       " 4.0  4.0   5.54651 \n",
       " 4.0  5.0  13.4348  \n",
       " 4.0  6.0  31.4827  "
      ]
     },
     "execution_count": 231,
     "metadata": {},
     "output_type": "execute_result"
    }
   ],
   "source": [
    "Data=hcat(pos,x)"
   ]
  },
  {
   "cell_type": "code",
   "execution_count": 340,
   "metadata": {},
   "outputs": [
    {
     "data": {
      "image/png": "[encoded data removed]",
      "text/plain": [
       "PyPlot.Figure(PyObject <matplotlib.figure.Figure object at 0x7f6a6d59a790>)"
      ]
     },
     "metadata": {},
     "output_type": "display_data"
    }
   ],
   "source": [
    "pcolor(Data,cmap=\"terrain\")\n",
    "title(\"Solución de f(x,y)\")\n",
    "xlabel(\"Posición X\")\n",
    "ylabel(\"Posición Y\")\n",
    "colorbar()\n",
    "legend()\n",
    "show()"
   ]
  },
  {
   "cell_type": "markdown",
   "metadata": {},
   "source": [
    "_________"
   ]
  },
  {
   "cell_type": "markdown",
   "metadata": {},
   "source": [
    "__ Ejercicio 2 (Puntos extra):__ Resolver ecuación de Poisson unidimensional con $\\rho (x)=\\cos(x)$, en el dominio $[0,2 \\pi]$, utilizando una malla con 12 puntos. Aquí nuevamente hay 10 incognitas, sin embargo note que para el método es mas conveniente definir $\\vec f$ incluyendo las condiciones de frontera."
   ]
  },
  {
   "cell_type": "markdown",
   "metadata": {},
   "source": [
    "__Ejercicio 3 (Puntos extra):__ Resolver ecuación de calor en una dimensión, en el dominio $[0,1]$, con $f(0)=10$, $f(1)=0$, en una malla con 12 puntos. Aqui obviamente habrá 10 incognitas: $f_1, \\dots, f_{10}$. La condición inicial que deberán usar es $\\vec f^{[0]}=(5,4,3,2,1,3,5,7,7,8)^{\\text{T}}$.\n",
    "* Utilizando método de Euler.\n",
    "* Utilizando Runge-Kutta de orden 4.\n",
    "* Puede hacer este ejercicio construyendo $A$ y $\\vec b$, para así utilizar las rutinas que ya tienen de RK4 y Euler, noten que aqui $A\\vec f +\\vec b$ define la función del sistema dinámico de $n=10$ dimensiones.\n",
    "* La otra opción es implementar una rutina que aplique el laplaciano discreto a $\\vec f$, digamos $\\vec r= D_{h_x}[\\vec f]$, de esta forma es facil construir la función que define el sistema dinámico en cada paso.\n",
    "* Graficar en varios tiempos (no en todos en caso de que hagan una partición grande, solo los primeros tiempos y los últimos)."
   ]
  },
  {
   "cell_type": "markdown",
   "metadata": {},
   "source": [
    "*****\n",
    "```python\n",
    "F F M G\n",
    "```"
   ]
  }
 ],
 "metadata": {
  "kernelspec": {
   "display_name": "Julia 0.5.2",
   "language": "julia",
   "name": "julia-0.5"
  },
  "language_info": {
   "file_extension": ".jl",
   "mimetype": "application/julia",
   "name": "julia",
   "version": "0.5.2"
  }
 },
 "nbformat": 4,
 "nbformat_minor": 2
}
