{
 "cells": [
  {
   "cell_type": "markdown",
   "metadata": {},
   "source": [
    "# Integración Numérica\n",
    "\n",
    "Se generó el cálculo de integración númerica en base al método del rectángulo, trapecio y Simpson.\n",
    "Todas las integrales se cálcularon con el ejemplo: $$\\int_{-5}^{5} f(x) dx; f(x)=x^{2}+x \\approx 83.333...$$"
   ]
  },
  {
   "cell_type": "code",
   "execution_count": 3,
   "metadata": {
    "collapsed": false,
    "scrolled": true
   },
   "outputs": [
    {
     "data": {
      "text/plain": [
       "f (generic function with 1 method)"
      ]
     },
     "execution_count": 3,
     "metadata": {},
     "output_type": "execute_result"
    }
   ],
   "source": [
    "f(x)=x^2+x"
   ]
  },
  {
   "cell_type": "markdown",
   "metadata": {},
   "source": [
    "__Ejercicio 1__: Implementar el método de integración del rectángulo. Deberán construir una _rutina_ que reciba una función y el tamaño de la diferencia finita, y devuelva el valor aproximado de la integral. Para hacer esto deberán dividir el intervalo de integración en segmentos pequeños y aplicar la formula de arriba."
   ]
  },
  {
   "cell_type": "code",
   "execution_count": 9,
   "metadata": {
    "collapsed": false
   },
   "outputs": [
    {
     "data": {
      "text/plain": [
       "Rectangulo (generic function with 1 method)"
      ]
     },
     "execution_count": 9,
     "metadata": {},
     "output_type": "execute_result"
    }
   ],
   "source": [
    "function Rectangulo(f::Function,a,b;intervalos=100000)\n",
    "    #Graba el número de intervalos como n para menor escritura\n",
    "    n=intervalos\n",
    "    #Aquí se genera las particiones con el número brindado, el valor predeterminado será 100,000\n",
    "    v=linspace(a,b,n)\n",
    "    #Variable donde guardaremos nuestra aproximación\n",
    "    Itot=0\n",
    "    #Suma de todos los intervalos\n",
    "    for i in 1:(n-1)\n",
    "        #Condicion de este metodo\n",
    "        y=(v[i]+v[i+1])/2\n",
    "        I=(v[i+1]-v[i])*(f(y))\n",
    "        #Recopilación de los datos calculados\n",
    "        Itot+=I\n",
    "    end     \n",
    "    return Itot\n",
    "end"
   ]
  },
  {
   "cell_type": "code",
   "execution_count": 104,
   "metadata": {
    "collapsed": false
   },
   "outputs": [
    {
     "data": {
      "text/plain": [
       "83.33333332499957"
      ]
     },
     "execution_count": 104,
     "metadata": {},
     "output_type": "execute_result"
    }
   ],
   "source": [
    "Rectangulo(f,-5,5)"
   ]
  },
  {
   "cell_type": "markdown",
   "metadata": {},
   "source": [
    "__Ejercicio 2:__ Implementar método del trapecio de la misma forma que el ejercicio anterior."
   ]
  },
  {
   "cell_type": "code",
   "execution_count": 13,
   "metadata": {
    "collapsed": false
   },
   "outputs": [
    {
     "data": {
      "text/plain": [
       "Trapecio (generic function with 1 method)"
      ]
     },
     "execution_count": 13,
     "metadata": {},
     "output_type": "execute_result"
    }
   ],
   "source": [
    "function Trapecio(f::Function,a,b;intervalos=100000)\n",
    "        #Graba el número de intervalos como n para menor escritura\n",
    "    n=intervalos\n",
    "        #Aquí se genera las particiones con el número brindado, el valor predeterminado será 100,000\n",
    "    v=linspace(a,b,n)\n",
    "        #Variable donde guardaremos nuestra aproximación\n",
    "    Itot=0\n",
    "        #Suma de todos los intervalos\n",
    "    for i in 1:(n-1)\n",
    "                #Condicion de este metodo\n",
    "        I=(v[i+1]-v[i])*(f(v[i])+f(v[i+1]))/2 \n",
    "                #Recopilación de los datos calculados\n",
    "        Itot+=I\n",
    "    end     \n",
    "    return Itot\n",
    "end"
   ]
  },
  {
   "cell_type": "code",
   "execution_count": 24,
   "metadata": {
    "collapsed": false
   },
   "outputs": [
    {
     "data": {
      "text/plain": [
       "83.33333335000071"
      ]
     },
     "execution_count": 24,
     "metadata": {},
     "output_type": "execute_result"
    }
   ],
   "source": [
    "Trapecio(f,-5,5)"
   ]
  },
  {
   "cell_type": "markdown",
   "metadata": {},
   "source": [
    "__Ejercicio 3:__ Implementar método de Simpson de la misma forma que el ejercicio anterior."
   ]
  },
  {
   "cell_type": "code",
   "execution_count": 2,
   "metadata": {
    "collapsed": false
   },
   "outputs": [
    {
     "data": {
      "text/plain": [
       "Simpson (generic function with 1 method)"
      ]
     },
     "execution_count": 2,
     "metadata": {},
     "output_type": "execute_result"
    }
   ],
   "source": [
    "function Simpson(f::Function,a,b;intervalos=100000)\n",
    "        #Graba el número de intervalos como n para menor escritura\n",
    "    n=intervalos\n",
    "        #Aquí se genera las particiones con el número brindado, el valor predeterminado será 100,000\n",
    "    v=linspace(a,b,n)\n",
    "        #Variable donde guardaremos nuestra aproximación\n",
    "    Itot=0\n",
    "        #Suma de todos los intervalos\n",
    "    for i in 1:(n-1)\n",
    "                #Condicion de este metodo\n",
    "        m=(v[i+1]+v[i])/2\n",
    "        I=(v[i+1]-v[i])*(f(v[i])+4*f(m)+f(v[i+1]))/6\n",
    "                #Recopilación de los datos calculados\n",
    "        Itot+=I\n",
    "    end     \n",
    "    return Itot\n",
    "end"
   ]
  },
  {
   "cell_type": "code",
   "execution_count": 23,
   "metadata": {
    "collapsed": false,
    "scrolled": true
   },
   "outputs": [
    {
     "data": {
      "text/plain": [
       "83.33333333333307"
      ]
     },
     "execution_count": 23,
     "metadata": {},
     "output_type": "execute_result"
    }
   ],
   "source": [
    "Simpson(f,-5,5)"
   ]
  },
  {
   "cell_type": "markdown",
   "metadata": {},
   "source": [
    "*****\n",
    "```python\n",
    "F F M G\n",
    "```"
   ]
  }
 ],
 "metadata": {
  "kernelspec": {
   "display_name": "Julia 0.6.0",
   "language": "julia",
   "name": "julia-0.6"
  },
  "language_info": {
   "file_extension": ".jl",
   "mimetype": "application/julia",
   "name": "julia",
   "version": "0.6.0"
  }
 },
 "nbformat": 4,
 "nbformat_minor": 2
}
