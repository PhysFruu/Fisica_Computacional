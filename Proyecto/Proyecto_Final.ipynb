{
 "cells": [
  {
   "cell_type": "markdown",
   "metadata": {},
   "source": [
    "La matriz de densidad queda determinada por:\n",
    "\n",
    "\n",
    "\n",
    "\\begin{equation} \\label{eq1}\n",
    "\\begin{split}\n",
    "\\dot{\\rho_{ab}} = &  -(i\\omega_{ab}+\\gamma_1)\\rho_{ab}-\\frac{i}{2}\\frac{\\wp_{ab}\\mathscr{E}}{\\hbar}e^{-ivt}(\\rho_{aa}-\\rho_{bb}) + \\frac{i}{2} \\Omega_\\mu e^{-i\\phi_\\mu}e^{-i\\nu_\\mu t}\\rho_{cb}\n",
    "\\\\\n",
    "\\dot{\\rho_{cb}} =  &  -(i\\omega_{cb}+\\gamma_3)\\rho_{cb}-\\frac{i}{2}\\frac{\\wp_{ab}\\mathscr{E}}{\\hbar}e^{-ivt}\\rho_{ca} + \\frac{i}{2} \\Omega_\\mu e^{i\\phi_\\mu}e^{i\\nu_\\mu t}\\rho_{ab}\n",
    "\\\\\n",
    "\\dot{\\rho_{ac}} =  &  -(i\\omega_{ac}+\\gamma_2)\\rho_{ac}+\\frac{i}{2}\\frac{\\wp_{ab}\\mathscr{E}}{\\hbar}e^{-ivt}\\rho_{bc} - \\frac{i}{2} \\Omega_\\mu e^{i\\phi_\\mu}e^{-i\\nu_\\mu t}(\\rho_{aa}-\\rho_{cc})\n",
    "\\end{split}\n",
    "\\end{equation}\n",
    "\n"
   ]
  },
  {
   "cell_type": "markdown",
   "metadata": {},
   "source": [
    "Entonces podemos elegir\n",
    "$$ \\rho_{ab}=x[1] \\\\ \\rho_{cb}=x[2] \\\\\n",
    "\\rho_{ac}=x[3] \\\\\n",
    "\\rho_{aa}=x[4] \\\\\n",
    "\\rho_{bb}=x[5] \\\\\n",
    "\\rho_{ca}=x[6] \\\\\n",
    "\\rho_{bc}=x[7] \\\\\n",
    "$$"
   ]
  },
  {
   "cell_type": "code",
   "execution_count": null,
   "metadata": {},
   "outputs": [],
   "source": [
    "\\omega"
   ]
  }
 ],
 "metadata": {
  "kernelspec": {
   "display_name": "Julia 0.6.0",
   "language": "julia",
   "name": "julia-0.6"
  },
  "language_info": {
   "file_extension": ".jl",
   "mimetype": "application/julia",
   "name": "julia",
   "version": "0.6.0"
  }
 },
 "nbformat": 4,
 "nbformat_minor": 2
}
