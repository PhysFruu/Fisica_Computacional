{
 "cells": [
  {
   "cell_type": "markdown",
   "metadata": {
    "collapsed": true
   },
   "source": [
    "# Métodos de Integración\n",
    "\n",
    "  ### Integral de Riemann\n",
    "  \n",
    "  Esta es la definición usual que se emplea en casi todos los cursos de cálculo básico. Para definir las sumas superiores e inferiores se emplea el operador supremo e infimo de una función, cuyo valor es el valor máximo y mínimo que toma una función en algún cierto intervalo respectivamente, sin embargo de manera computacional es dificil conocer con exactitud cual punto se trata. De aquí se hace tender el tamaño del intervalo al mínimo posible, es aqui donde sucede que  \n",
    "  $$\\int_a^b f(x) dx=\\sum_{i=1}^\\infty{m_i(x_i-x_{i+1})}=\\sum_{i=1}^\\infty{M_i(x_i-x_{i+1})}$$\n",
    "  \n",
    "  Donde $m_i=inf\\{f(x); x \\in{[x_{i}, x_{i+1}]}\\}$ y $M_i=sup\\{f(x); x \\in{[x_{i}, x_{i+1}]}\\}$ para una partición $P=\\{x_1=a<x_2<...<x_{n-1},x_{n}=b\\}$ donde el infinito representa un limite a la cantidad de intervalos que se tienen, volviendo a la resta de la suma inferior con la superior $<\\epsilon$, $ \\forall{\\epsilon>0}$ sii convergen a la integral.\n",
    "  \n",
    "  Para definir este límite de manera computacional y aprovechando la convergencia de los intervalos hacia la integral:\n",
    "  creamos una partición $P$ desde $x_0=a$ hasta $x_{n+1}=b$ tal que la distancia entre cada intervalo sea $\\frac{b-a}{n}$, creando $n$ intervalos. Así:\n",
    "  $$x_i= a+\\frac{(i)(b-a)}{n}=x_{0}+\\frac{(i)(b-x_{0})}{n}\\rightarrow{x_n=b}$$\n",
    "  \n",
    "  Ahora definiremos donde evaluaremos la función en el punto $x^{i}$ como $$x^{i}=\\frac{x_{i}+x_{i+1}}{2}$$\n",
    "  \n",
    "  Así conseguimos la integración para $n$'s grandes como $$\\int_{a}^{b}{f(x) dx}\\approx \\sum_{i=1}^{n} f(x^i) \\frac{a+b}{n}$$\n",
    "  También conocida como *Regla del punto medio*. También apartir de esta deducción se puede formular la *Regla del Rectángulo* cambiando a $x^i$ por $x_i$ ó $x_{i+1}$ \n",
    "***\n",
    "  ### Integración por trapecios\n",
    "  Para realizar esta integración numérica se emplea un polinomio de primer orden generando ya no rectangulos, si no, trapecios, donde la aproximación más sencilla corresponde al emplear todo el intervalo de integración, si usamos esto tenemos:\n",
    "  $$f(x) \\approx P_1(x)=f(a)+\\frac{f(b)-f(a)}{b-a}(x-a)$$\n",
    "  Esta función es la aproximación lineal conociendo dos puntos en $f(a)$ y $f(b)$ y calculando su pendiente, calculando una recta apartir de $a$ y $f(a)$.  \n",
    "  Donde al hacer la integral de $f(x)$ y sustituirla por $P_1(x)$ nos queda:\n",
    "  $$\\int_a^b f(x) dx \\approx (b-a)\\frac{f(a)+f(b)}{2}$$\n",
    "  Donde podemos crear una partición analoga al caso anterior, donde ahora podriamos cambiar a $a=x_i$ y $b=x_{i+1}$ con un intervalo de $\\frac{b-a}{n}$ aproximando a la función con $P_{1,i}$, caso donde llegaríamos a la *Regla del Trapecio Compuesta* \n",
    "***\n",
    "  ### Integración por regla de Simpson\n",
    "  Empleando el mismo intervalo, la forma de hallar la aproximación es similar al polinomio anterior, la regla del trapecio, pero ahora se empleará un polinomio de grado 2 para aproximar la función. Esta función esta dada por medio de las *bases polinómicas de Lagrange* lo que al evaluar los puntos de la función conocidos nos sugiere la siguiente ecuación:\n",
    "  $$P_2(x)=f(a)\\frac{(x-m)(x-b)}{(a-m)(a-b)}+f(m)\\frac{(x-a)(x-b)}{(m-a)(m-b)}+f(b)\\frac{(x-a)(x-m)}{(b-a)(b-m)}$$\n",
    "  \n",
    "  Donde al hacer la misma aproximación $f(x) \\approx P_2$ se llega a:\n",
    "  $$\\int_a^b f(x) dx \\approx \\frac{b-a}{6}(f(a)+4f(m)+f(b))$$\n",
    "  \n",
    "  Analogamente si cambiamos a $a=x_i$ y $b=x_{i+1}$ donde $m$ vive entre $(x_i,x_{i+1})$, con intervalos que miden $\\frac{b-a}{n}$ donde se le aplica a cada uno un $P_{2,i}$ de aproximación, llegaríamos a la *Regla de Simpson Compuesta* \n",
    "  \n",
    "  La desventaja es que en este método se necesitan 3 puntos, $a<m<b$, así como su evaluación en $f(x)$.\n",
    "  \n",
    "***\n",
    "  "
   ]
  },
  {
   "cell_type": "markdown",
   "metadata": {},
   "source": [
    "Nota: Julia arroja errores decimales en el intervalo. Ej:"
   ]
  },
  {
   "cell_type": "code",
   "execution_count": 41,
   "metadata": {
    "collapsed": false
   },
   "outputs": [
    {
     "data": {
      "text/plain": [
       "I (generic function with 1 method)"
      ]
     },
     "execution_count": 41,
     "metadata": {},
     "output_type": "execute_result"
    }
   ],
   "source": [
    "I(a,b,n)=(b-a)/n"
   ]
  },
  {
   "cell_type": "code",
   "execution_count": 46,
   "metadata": {
    "collapsed": false
   },
   "outputs": [
    {
     "data": {
      "text/plain": [
       "-0.001"
      ]
     },
     "execution_count": 46,
     "metadata": {},
     "output_type": "execute_result"
    }
   ],
   "source": [
    "a=I(-3,-4,1000)"
   ]
  },
  {
   "cell_type": "code",
   "execution_count": 60,
   "metadata": {
    "collapsed": false
   },
   "outputs": [],
   "source": [
    "b=-3\n",
    "for i in 1:1000\n",
    "    b=a+b\n",
    "end"
   ]
  },
  {
   "cell_type": "code",
   "execution_count": 61,
   "metadata": {
    "collapsed": false
   },
   "outputs": [
    {
     "data": {
      "text/plain": [
       "-3.99999999999989"
      ]
     },
     "execution_count": 61,
     "metadata": {},
     "output_type": "execute_result"
    }
   ],
   "source": [
    "b"
   ]
  },
  {
   "cell_type": "code",
   "execution_count": 62,
   "metadata": {
    "collapsed": false
   },
   "outputs": [
    {
     "data": {
      "text/plain": [
       "-1.1013412404281553e-13"
      ]
     },
     "execution_count": 62,
     "metadata": {},
     "output_type": "execute_result"
    }
   ],
   "source": [
    "Error=-4-b"
   ]
  }
 ],
 "metadata": {
  "kernelspec": {
   "display_name": "Julia 0.6.0",
   "language": "julia",
   "name": "julia-0.6"
  },
  "language_info": {
   "file_extension": ".jl",
   "mimetype": "application/julia",
   "name": "julia",
   "version": "0.6.0"
  }
 },
 "nbformat": 4,
 "nbformat_minor": 2
}
